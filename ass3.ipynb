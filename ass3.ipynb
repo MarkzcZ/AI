{
 "cells": [
  {
   "cell_type": "code",
   "execution_count": 1,
   "metadata": {},
   "outputs": [
    {
     "name": "stdout",
     "output_type": "stream",
     "text": [
      "tensor([[0.1255, 0.5377],\n",
      "        [0.6564, 0.0365],\n",
      "        [0.5837, 0.7018],\n",
      "        [0.3068, 0.9500],\n",
      "        [0.4321, 0.2946],\n",
      "        [0.6015, 0.1762],\n",
      "        [0.9945, 0.3177],\n",
      "        [0.9886, 0.3911]])\n"
     ]
    }
   ],
   "source": [
    "import torch\n",
    "\n",
    "torch.manual_seed(4321)\n",
    "x = torch.rand(size=(8,2))\n",
    "y = torch.randint(low=0, high=3,size=(8,),dtype=torch.long)\n",
    "\n",
    "for i in range(8):\n",
    "    a1 = 0.48*x(i,0)-0.51*x(i,1)+0.23\n",
    "    "
   ]
  }
 ],
 "metadata": {
  "kernelspec": {
   "display_name": "Python 3.9.13 64-bit",
   "language": "python",
   "name": "python3"
  },
  "language_info": {
   "codemirror_mode": {
    "name": "ipython",
    "version": 3
   },
   "file_extension": ".py",
   "mimetype": "text/x-python",
   "name": "python",
   "nbconvert_exporter": "python",
   "pygments_lexer": "ipython3",
   "version": "3.9.13"
  },
  "orig_nbformat": 4,
  "vscode": {
   "interpreter": {
    "hash": "6472293f173ec20ef2ce4bf919aa153a4f8d9afcf1b622c25a61ec4a9c799ba4"
   }
  }
 },
 "nbformat": 4,
 "nbformat_minor": 2
}
