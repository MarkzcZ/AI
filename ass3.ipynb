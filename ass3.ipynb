{
 "cells": [
  {
   "cell_type": "code",
   "execution_count": 11,
   "metadata": {},
   "outputs": [
    {
     "name": "stdout",
     "output_type": "stream",
     "text": [
      "y_predict = tensor([0.1645, 0.5878, 0.5874, 0.1513, 0.5813, 0.5867, 0.1638, 0.2378],\n",
      "       grad_fn=<IndexBackward0>)\n",
      "loss = 1.1347852945327759\n",
      "w1's grad = None\n",
      "w2's grad = None\n",
      "b1's grad = None\n",
      "b2's grad = None\n"
     ]
    }
   ],
   "source": [
    "from pyexpat import model\n",
    "import torch\n",
    "import torch.nn as nn\n",
    "\n",
    "device = torch.device('cuda:0')\n",
    "\n",
    "#set input\n",
    "torch.manual_seed(4321)\n",
    "x = torch.rand(size=(8, 2))\n",
    "y = torch.randint(low=0, high=3, size=(8,))\n",
    "\n",
    "#init weights & biases\n",
    "w1 = torch.tensor([[0.48,-0.43],[-0.51,-0.48]],requires_grad=True)\n",
    "w2 = torch.tensor([[-0.99,0.36,-0.75],[-0.66,0.34,0.66]],requires_grad=True)\n",
    "b1 = torch.tensor([0.23,0.05],requires_grad=True)\n",
    "b2 = torch.tensor([0.32, -0.44,0.70],requires_grad=True)\n",
    "\n",
    "l = nn.Sigmoid()\n",
    "s = nn.Softmax(dim=1)\n",
    "\n",
    "a1 = l(-(x @ w1 + b1)) # @ means matrix cross-multiply  1*2 X 2*2\n",
    "a2 = a1 @ w2 + b2\n",
    "yhat = s(a2)\n",
    "\n",
    "#predict\n",
    "y_pred = yhat[torch.arange(len(y)),y]\n",
    "print(f'y_predict = {y_pred}')\n",
    "\n",
    "#MSE loss\n",
    "loss = -(torch.log(y_pred)).mean()\n",
    "print(f'loss = {loss}')\n",
    "\n",
    "# Calculate the grad\n",
    "loss.backward\n",
    "print(f\"w1's grad = {w1.grad}\")\n",
    "print(f\"w2's grad = {w2.grad}\")\n",
    "print(f\"b1's grad = {b1.grad}\")\n",
    "print(f\"b2's grad = {b2.grad}\")"
   ]
  }
 ],
 "metadata": {
  "kernelspec": {
   "display_name": "Python 3.9.13 64-bit",
   "language": "python",
   "name": "python3"
  },
  "language_info": {
   "name": "python",
   "version": "3.9.13"
  },
  "orig_nbformat": 4,
  "vscode": {
   "interpreter": {
    "hash": "6472293f173ec20ef2ce4bf919aa153a4f8d9afcf1b622c25a61ec4a9c799ba4"
   }
  }
 },
 "nbformat": 4,
 "nbformat_minor": 2
}
