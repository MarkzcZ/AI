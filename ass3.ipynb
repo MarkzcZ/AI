{
 "cells": [
  {
   "cell_type": "code",
   "execution_count": 16,
   "metadata": {},
   "outputs": [
    {
     "name": "stdout",
     "output_type": "stream",
     "text": [
      "tensor([[0.1645, 0.2644, 0.5712],\n",
      "        [0.1751, 0.2371, 0.5878],\n",
      "        [0.1563, 0.2563, 0.5874],\n",
      "        [0.1513, 0.2709, 0.5778],\n",
      "        [0.1693, 0.2494, 0.5813],\n",
      "        [0.1714, 0.2420, 0.5867],\n",
      "        [0.1638, 0.2359, 0.6003],\n",
      "        [0.1618, 0.2378, 0.6004]], grad_fn=<SoftmaxBackward0>)\n",
      "tensor([0.1645, 0.5878, 0.5874, 0.1513, 0.5813, 0.5867, 0.1638, 0.2378],\n",
      "       grad_fn=<IndexBackward0>)\n",
      "tensor(1.1348, grad_fn=<NegBackward0>)\n",
      "w1's grad = None\n",
      "w2's grad = None\n",
      "b1's grad = None\n",
      "b2's grad = None\n"
     ]
    },
    {
     "name": "stderr",
     "output_type": "stream",
     "text": [
      "C:\\Users\\M__zzZ\\AppData\\Local\\Temp\\ipykernel_11884\\3958370525.py:21: UserWarning: Implicit dimension choice for softmax has been deprecated. Change the call to include dim=X as an argument.\n",
      "  yhat = s(a2)\n"
     ]
    }
   ],
   "source": [
    "import re\n",
    "import torch\n",
    "import torch.nn as nn\n",
    "\n",
    "#set input\n",
    "torch.manual_seed(4321)\n",
    "x = torch.rand(size=(8, 2))\n",
    "y = torch.randint(low=0, high=3, size=(8,))\n",
    "\n",
    "#init weights & biases\n",
    "w1 = torch.tensor([[0.48,-0.43],[-0.51,-0.48]],requires_grad=True)\n",
    "w2 = torch.tensor([[-0.99,0.36,-0.75],[-0.66,0.34,0.66]],requires_grad=True)\n",
    "b1 = torch.tensor([0.23,0.05],requires_grad=True)\n",
    "b2 = torch.tensor([0.32, -0.44,0.70],requires_grad=True)\n",
    "\n",
    "l = torch.nn.Sigmoid()\n",
    "s = torch.nn.Softmax(dim=0)\n",
    "\n",
    "a1 = l(-(x @ w1 + b1))\n",
    "a2 = a1 @ w2 + b2\n",
    "yhat = s(a2)\n",
    "print(yhat)\n",
    "\n",
    "#predict\n",
    "y_pred = yhat[torch.arange(len(y)),y]\n",
    "print(y_pred)\n",
    "\n",
    "#loss\n",
    "loss = -(torch.log(y_pred)).mean()\n",
    "print(loss)\n",
    "\n",
    "# Calculate the grad\n",
    "loss.backward\n",
    "print(f\"w1's grad = {w1.grad}\")\n",
    "print(f\"w2's grad = {w2.grad}\")\n",
    "print(f\"b1's grad = {b1.grad}\")\n",
    "print(f\"b2's grad = {b2.grad}\")"
   ]
  }
 ],
 "metadata": {
  "kernelspec": {
   "display_name": "Python 3.9.13 64-bit",
   "language": "python",
   "name": "python3"
  },
  "language_info": {
   "name": "python",
   "version": "3.9.13"
  },
  "orig_nbformat": 4,
  "vscode": {
   "interpreter": {
    "hash": "6472293f173ec20ef2ce4bf919aa153a4f8d9afcf1b622c25a61ec4a9c799ba4"
   }
  }
 },
 "nbformat": 4,
 "nbformat_minor": 2
}
