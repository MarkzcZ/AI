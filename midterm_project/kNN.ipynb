{
 "cells": [
  {
   "cell_type": "code",
   "execution_count": 1,
   "metadata": {},
   "outputs": [
    {
     "name": "stderr",
     "output_type": "stream",
     "text": [
      "c:\\Users\\M__zzZ\\AppData\\Local\\Programs\\Python\\Python39\\lib\\site-packages\\torch\\nn\\_reduction.py:42: UserWarning: size_average and reduce args will be deprecated, please use reduction='sum' instead.\n",
      "  warnings.warn(warning.format(ret))\n",
      "c:\\Users\\M__zzZ\\AppData\\Local\\Programs\\Python\\Python39\\lib\\site-packages\\sklearn\\neighbors\\_classification.py:207: DataConversionWarning: A column-vector y was passed when a 1d array was expected. Please change the shape of y to (n_samples,), for example using ravel().\n",
      "  return self._fit(X, y)\n",
      "c:\\Users\\M__zzZ\\AppData\\Local\\Programs\\Python\\Python39\\lib\\site-packages\\sklearn\\neighbors\\_classification.py:207: DataConversionWarning: A column-vector y was passed when a 1d array was expected. Please change the shape of y to (n_samples,), for example using ravel().\n",
      "  return self._fit(X, y)\n",
      "c:\\Users\\M__zzZ\\AppData\\Local\\Programs\\Python\\Python39\\lib\\site-packages\\sklearn\\neighbors\\_classification.py:207: DataConversionWarning: A column-vector y was passed when a 1d array was expected. Please change the shape of y to (n_samples,), for example using ravel().\n",
      "  return self._fit(X, y)\n",
      "c:\\Users\\M__zzZ\\AppData\\Local\\Programs\\Python\\Python39\\lib\\site-packages\\sklearn\\neighbors\\_classification.py:207: DataConversionWarning: A column-vector y was passed when a 1d array was expected. Please change the shape of y to (n_samples,), for example using ravel().\n",
      "  return self._fit(X, y)\n",
      "c:\\Users\\M__zzZ\\AppData\\Local\\Programs\\Python\\Python39\\lib\\site-packages\\sklearn\\neighbors\\_classification.py:207: DataConversionWarning: A column-vector y was passed when a 1d array was expected. Please change the shape of y to (n_samples,), for example using ravel().\n",
      "  return self._fit(X, y)\n",
      "c:\\Users\\M__zzZ\\AppData\\Local\\Programs\\Python\\Python39\\lib\\site-packages\\sklearn\\neighbors\\_classification.py:207: DataConversionWarning: A column-vector y was passed when a 1d array was expected. Please change the shape of y to (n_samples,), for example using ravel().\n",
      "  return self._fit(X, y)\n",
      "c:\\Users\\M__zzZ\\AppData\\Local\\Programs\\Python\\Python39\\lib\\site-packages\\sklearn\\neighbors\\_classification.py:207: DataConversionWarning: A column-vector y was passed when a 1d array was expected. Please change the shape of y to (n_samples,), for example using ravel().\n",
      "  return self._fit(X, y)\n",
      "c:\\Users\\M__zzZ\\AppData\\Local\\Programs\\Python\\Python39\\lib\\site-packages\\sklearn\\neighbors\\_classification.py:207: DataConversionWarning: A column-vector y was passed when a 1d array was expected. Please change the shape of y to (n_samples,), for example using ravel().\n",
      "  return self._fit(X, y)\n",
      "c:\\Users\\M__zzZ\\AppData\\Local\\Programs\\Python\\Python39\\lib\\site-packages\\sklearn\\neighbors\\_classification.py:207: DataConversionWarning: A column-vector y was passed when a 1d array was expected. Please change the shape of y to (n_samples,), for example using ravel().\n",
      "  return self._fit(X, y)\n",
      "c:\\Users\\M__zzZ\\AppData\\Local\\Programs\\Python\\Python39\\lib\\site-packages\\sklearn\\neighbors\\_classification.py:207: DataConversionWarning: A column-vector y was passed when a 1d array was expected. Please change the shape of y to (n_samples,), for example using ravel().\n",
      "  return self._fit(X, y)\n"
     ]
    },
    {
     "name": "stdout",
     "output_type": "stream",
     "text": [
      "accuracy_score = 0.7\n",
      "recall_score = 0.6\n",
      "f1_score = 0.6666666666666665\n",
      "accuracy_score = 0.8\n",
      "recall_score = 0.5\n",
      "f1_score = 0.5\n",
      "accuracy_score = 0.9\n",
      "recall_score = 0.6666666666666666\n",
      "f1_score = 0.8\n",
      "accuracy_score = 1.0\n",
      "recall_score = 1.0\n",
      "f1_score = 1.0\n",
      "accuracy_score = 0.9\n",
      "recall_score = 1.0\n",
      "f1_score = 0.923076923076923\n",
      "accuracy_score = 0.7\n",
      "recall_score = 0.4\n",
      "f1_score = 0.5714285714285715\n",
      "accuracy_score = 0.9\n",
      "recall_score = 0.75\n",
      "f1_score = 0.8571428571428571\n",
      "accuracy_score = 1.0\n",
      "recall_score = 1.0\n",
      "f1_score = 1.0\n",
      "accuracy_score = 0.7\n",
      "recall_score = 0.0\n",
      "f1_score = 0.0\n",
      "accuracy_score = 0.8\n",
      "recall_score = 0.6\n",
      "f1_score = 0.7499999999999999\n",
      "accuracy_score = 1.0\n",
      "recall_score = 1.0\n",
      "f1_score = 1.0\n"
     ]
    },
    {
     "name": "stderr",
     "output_type": "stream",
     "text": [
      "c:\\Users\\M__zzZ\\AppData\\Local\\Programs\\Python\\Python39\\lib\\site-packages\\sklearn\\neighbors\\_classification.py:207: DataConversionWarning: A column-vector y was passed when a 1d array was expected. Please change the shape of y to (n_samples,), for example using ravel().\n",
      "  return self._fit(X, y)\n",
      "c:\\Users\\M__zzZ\\AppData\\Local\\Programs\\Python\\Python39\\lib\\site-packages\\sklearn\\neighbors\\_classification.py:207: DataConversionWarning: A column-vector y was passed when a 1d array was expected. Please change the shape of y to (n_samples,), for example using ravel().\n",
      "  return self._fit(X, y)\n"
     ]
    }
   ],
   "source": [
    "#加载数据集\n",
    "from Dataset import *\n",
    "from torch.utils.data import DataLoader\n",
    "#KNN分类算法\n",
    "from sklearn.neighbors import KNeighborsClassifier\n",
    "#得分算法\n",
    "from sklearn.metrics import accuracy_score\n",
    "from sklearn.metrics import recall_score\n",
    "from sklearn.metrics import f1_score\n",
    "#分割训练集与测试集\n",
    "from sklearn.model_selection import train_test_split\n",
    "#导入numpy\n",
    "import numpy as np\n",
    "from torch import nn\n",
    "import matplotlib.pyplot as plt\n",
    "#加载数据集\n",
    "# 加载训练数据\n",
    "myTrainData = MyDataSet(\"origin_breast_cancer_data.csv\")\n",
    "# 将batch_size设置成50，表示每一次迭代取出50个数据。\n",
    "TrainLoader = DataLoader(dataset=myTrainData, batch_size=50, shuffle=True)\n",
    "# 加载测试数据\n",
    "#myTestData = MyDataSet(\"origin_breast_cancer_data.csv\")\n",
    "#ValidationLoader = DataLoader(dataset=myTestData, batch_size=50, shuffle=True)\n",
    "loss_fn = nn.BCELoss(size_average=False)\n",
    "\n",
    "epoch = 10\n",
    "\n",
    "\n",
    "train_loss_his = []\n",
    "test_totalloss_his = []\n",
    "#构建knn分类模型，并指定 k 值\n",
    "KNN=KNeighborsClassifier(n_neighbors=10)\n",
    "\n",
    "#使用训练集训练模型\n",
    "for data in TrainLoader:\n",
    "        # 注意这里是取了一个batchsize的数据，该例batchsize=50，因此取了50个数据\n",
    "        x1,y1 = data\n",
    "        #分割测试集和训练集，比例为8：2\n",
    "        x_train, x_test , y_train, y_test = train_test_split(x1,y1, test_size = 0.2)\n",
    "        #print(x_test.shape)\n",
    "        #y = y.ravel()\n",
    "        KNN.fit(x_train,y_train)\n",
    "        if(np.array(KNN.predict(x_test)).size == 10):\n",
    "            result = np.array(KNN.predict(x_test)).reshape((10,1))\n",
    "        else:\n",
    "            continue\n",
    "        result_tensor = torch.Tensor(result)\n",
    "        #精确度\n",
    "        print(f\"accuracy_score = {accuracy_score(y_test,result_tensor)}\")\n",
    "        #召回率\n",
    "        print(f\"recall_score = {recall_score(y_test,result_tensor)}\")\n",
    "        #F1得分\n",
    "        print(f\"f1_score = {f1_score(y_test,result_tensor)}\")\n",
    "        #print(Tensor)\n",
    "        \n",
    "\n",
    "\n",
    "#评估模型的得分\n",
    "#for data in ValidationLoader:\n",
    "    #X_test,y_test = data\n",
    "    #output=KNN.predict(X_test)\n",
    "    #print(output,y_test.ravel())\n"
   ]
  }
 ],
 "metadata": {
  "kernelspec": {
   "display_name": "Python 3.9.13 64-bit",
   "language": "python",
   "name": "python3"
  },
  "language_info": {
   "codemirror_mode": {
    "name": "ipython",
    "version": 3
   },
   "file_extension": ".py",
   "mimetype": "text/x-python",
   "name": "python",
   "nbconvert_exporter": "python",
   "pygments_lexer": "ipython3",
   "version": "3.9.13"
  },
  "orig_nbformat": 4,
  "vscode": {
   "interpreter": {
    "hash": "6472293f173ec20ef2ce4bf919aa153a4f8d9afcf1b622c25a61ec4a9c799ba4"
   }
  }
 },
 "nbformat": 4,
 "nbformat_minor": 2
}
