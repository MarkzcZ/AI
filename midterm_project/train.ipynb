{
 "cells": [
  {
   "cell_type": "code",
   "execution_count": 1,
   "metadata": {},
   "outputs": [
    {
     "ename": "ModuleNotFoundError",
     "evalue": "No module named 'OneDimBostonHousingDataset'",
     "output_type": "error",
     "traceback": [
      "\u001b[1;31m---------------------------------------------------------------------------\u001b[0m",
      "\u001b[1;31mModuleNotFoundError\u001b[0m                       Traceback (most recent call last)",
      "Cell \u001b[1;32mIn [1], line 4\u001b[0m\n\u001b[0;32m      2\u001b[0m \u001b[39mfrom\u001b[39;00m \u001b[39mtorch\u001b[39;00m\u001b[39m.\u001b[39;00m\u001b[39mutils\u001b[39;00m\u001b[39m.\u001b[39;00m\u001b[39mtensorboard\u001b[39;00m \u001b[39mimport\u001b[39;00m SummaryWriter\n\u001b[0;32m      3\u001b[0m \u001b[39mfrom\u001b[39;00m \u001b[39mLinearRegress_model\u001b[39;00m \u001b[39mimport\u001b[39;00m \u001b[39m*\u001b[39m\n\u001b[1;32m----> 4\u001b[0m \u001b[39mfrom\u001b[39;00m \u001b[39mOneDimBostonHousingDataset\u001b[39;00m \u001b[39mimport\u001b[39;00m \u001b[39m*\u001b[39m\n\u001b[0;32m      5\u001b[0m \u001b[39mimport\u001b[39;00m \u001b[39mmatplotlib\u001b[39;00m\u001b[39m.\u001b[39;00m\u001b[39mpyplot\u001b[39;00m \u001b[39mas\u001b[39;00m \u001b[39mplt\u001b[39;00m\n\u001b[0;32m      7\u001b[0m \u001b[39m# 加载训练数据\u001b[39;00m\n",
      "\u001b[1;31mModuleNotFoundError\u001b[0m: No module named 'OneDimBostonHousingDataset'"
     ]
    }
   ],
   "source": [
    "from torch.utils.data import DataLoader\n",
    "from torch.utils.tensorboard import SummaryWriter\n",
    "from LinearRegress_model import *\n",
    "from Dataset import *\n",
    "import matplotlib.pyplot as plt\n",
    "\n",
    "# 加载训练数据\n",
    "myTrainData = MyDataSet(\"origin_breast_cancer_data.csv\")\n",
    "# 将batch_size设置成50，表示每一次迭代取出20个数据。\n",
    "TrainLoader = DataLoader(dataset=myTrainData, batch_size=20, shuffle=True)\n",
    "# 加载测试数据\n",
    "myTestData = MyDataSet(\"breast_cancer_Data_357B_100M.csv\")\n",
    "ValidationLoader = DataLoader(dataset=myTestData, batch_size=20, shuffle=True)\n",
    "# 创建网络模型\n",
    "myModel = LinearRegress(inputsize=1, outputsize=1)\n",
    "# 损失函数\n",
    "loss_fn = nn.MSELoss()\n",
    "# 学习率\n",
    "learning_rate = 5e-3\n",
    "# 优化器\n",
    "optimizer = torch.optim.SGD(myModel.parameters(), lr=learning_rate)\n",
    "# 总共的训练步数\n",
    "total_train_step = 0\n",
    "# 总共的测试步数\n",
    "total_test_step = 0\n",
    "step = 0\n",
    "epoch = 100\n",
    "# Tensorboard的writer实例，用于记录训练过程中的LOSS变化\n",
    "writer = SummaryWriter(\"logs\")\n",
    "train_loss_his = []\n",
    "test_totalloss_his = []\n",
    "for i in range(epoch):\n",
    "    print(f\"-------第{i}轮训练开始-------\")\n",
    "    # 这一部分是模型训练\n",
    "    for data in TrainLoader:\n",
    "        # 注意这里是取了一个batchsize的数据，该例batchsize=50，因此取了50个数据\n",
    "        x1,y = data\n",
    "        # 把输入扔给模型，得到预测输出output\n",
    "        output = myModel(x1)\n",
    "        # 计算预测输出output和真是输出y之间的LOSS\n",
    "        loss = loss_fn(output, y)\n",
    "        # 将梯度清零，好像这一步必须要\n",
    "        optimizer.zero_grad()\n",
    "        # 反向传播，计算梯度\n",
    "        loss.backward()\n",
    "        # 优化一次参数\n",
    "        optimizer.step()\n",
    "        # 总的迭代次数加1\n",
    "        total_train_step = total_train_step + 1\n",
    "        # 将当前的LOSS放到LOSS记录的list中\n",
    "        train_loss_his.append(loss.detach().numpy())\n",
    "        # 将当前的LOSS记录到tensorboard的中\n",
    "        writer.add_scalar(\"train_loss\", loss.item(), total_train_step)\n",
    "        print(f\"训练次数：{total_train_step}，loss:{loss}\")\n",
    "    # 下面这段代码是模型测试\n",
    "    total_test_loss = 0\n",
    "    # 这里告诉代码不用求梯度了\n",
    "    with torch.no_grad():\n",
    "        for data in ValidationLoader:\n",
    "            x1, y = data\n",
    "            output = myModel(x1)\n",
    "            loss = loss_fn(output, y)\n",
    "            # 这里求一个epoch的总loss\n",
    "            total_test_loss = total_test_loss + loss\n",
    "        print(f\"测试集上的loss：{total_test_loss}\")\n",
    "        test_totalloss_his.append(total_test_loss.detach().numpy())\n",
    "        writer.add_scalar(\"test_loss\", total_test_loss.item(), i)\n",
    "# 输出线性模型的两个参数，分别是权重和偏置\n",
    "for parameters in myModel.parameters():\n",
    "    print(parameters)\n",
    "writer.close()\n",
    "# 画出训练损失变化曲线\n",
    "plt.plot(train_loss_his)\n",
    "plt.show()\n",
    "# 画出测试损失变化曲线\n",
    "plt.plot(test_totalloss_his)\n",
    "plt.show()"
   ]
  }
 ],
 "metadata": {
  "kernelspec": {
   "display_name": "Python 3.9.13 64-bit",
   "language": "python",
   "name": "python3"
  },
  "language_info": {
   "codemirror_mode": {
    "name": "ipython",
    "version": 3
   },
   "file_extension": ".py",
   "mimetype": "text/x-python",
   "name": "python",
   "nbconvert_exporter": "python",
   "pygments_lexer": "ipython3",
   "version": "3.9.13"
  },
  "orig_nbformat": 4,
  "vscode": {
   "interpreter": {
    "hash": "6472293f173ec20ef2ce4bf919aa153a4f8d9afcf1b622c25a61ec4a9c799ba4"
   }
  }
 },
 "nbformat": 4,
 "nbformat_minor": 2
}
